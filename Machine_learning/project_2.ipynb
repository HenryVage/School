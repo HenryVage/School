{
 "cells": [
  {
   "cell_type": "markdown",
   "metadata": {},
   "source": [
    "# Import dependencies"
   ]
  },
  {
   "cell_type": "code",
   "execution_count": 33,
   "metadata": {},
   "outputs": [],
   "source": [
    "import random\n",
    "import numpy as np\n",
    "import matplotlib.pyplot as plt\n",
    "import pandas as pd\n",
    "from random import seed\n",
    "from random import random\n",
    "from random import randrange\n",
    "import random\n",
    "import keras\n",
    "from keras.datasets import fashion_mnist \n",
    "from keras.layers import Dense, Activation, Flatten, Conv2D, MaxPooling2D\n",
    "from keras.models import Sequential\n",
    "from keras.utils import to_categorical\n",
    "from sklearn.svm import LinearSVC\n",
    "from sklearn.neighbors import KNeighborsClassifier\n",
    "from sklearn.svm import SVC\n",
    "from sklearn.tree import DecisionTreeClassifier\n",
    "from sklearn.ensemble import RandomForestClassifier\n",
    "from sklearn.linear_model import LogisticRegression\n",
    "from sklearn.model_selection import train_test_split,KFold\n",
    "from sklearn.neural_network import MLPClassifier\n",
    "from sklearn.utils.testing import ignore_warnings\n",
    "from sklearn.exceptions import ConvergenceWarning"
   ]
  },
  {
   "cell_type": "markdown",
   "metadata": {},
   "source": [
    "# Import data and preproccesing steps"
   ]
  },
  {
   "cell_type": "code",
   "execution_count": 2,
   "metadata": {},
   "outputs": [
    {
     "name": "stdout",
     "output_type": "stream",
     "text": [
      "Shape of X:  (69999, 784)\n",
      "Shape of y:  (69999, 1)\n"
     ]
    }
   ],
   "source": [
    "x = pd.read_csv(\"handwritten_digits_images.csv\")\n",
    "y_panda = pd.read_csv(\"handwritten_digits_labels.csv\")\n",
    "print(\"Shape of X: \", x.shape)\n",
    "print(\"Shape of y: \", y_panda.shape)"
   ]
  },
  {
   "cell_type": "code",
   "execution_count": null,
   "metadata": {},
   "outputs": [],
   "source": [
    "def label_distribution(y):\n",
    "    n_labels = [0]*10\n",
    "    for i in y:\n",
    "        n_labels[i] += 1\n",
    "    for i in range(len(n_labels)):\n",
    "        n_labels[i] = round(n_labels[i]/len(y), 2)\n",
    "    print(\"label distr. from left to right percentage of label 0,1,2...,9 : \", n_labels) #printing label distribution in percentage of size of y"
   ]
  },
  {
   "cell_type": "code",
   "execution_count": 4,
   "metadata": {},
   "outputs": [
    {
     "name": "stdout",
     "output_type": "stream",
     "text": [
      "labels distribution:  [0.1, 0.11, 0.1, 0.1, 0.1, 0.09, 0.1, 0.1, 0.1, 0.1]\n",
      "Shape of X:  (69999, 784)\n",
      "Shape of y:  (69999,)\n"
     ]
    }
   ],
   "source": [
    "X = x.to_numpy()\n",
    "y_nd_array = y_panda.to_numpy()\n",
    "y = y_nd_array.flatten()\n",
    "np.random.seed(123)\n",
    "idx = np.random.permutation(len(y)) #shuffling data and labels\n",
    "X,y = X[idx], y[idx]\n",
    "X  = X.astype(float)/255\n",
    "label_distribution(y)\n",
    "print(\"Shape of X: \", X.shape)\n",
    "print(\"Shape of y: \", y.shape)"
   ]
  },
  {
   "cell_type": "code",
   "execution_count": 5,
   "metadata": {},
   "outputs": [
    {
     "name": "stdout",
     "output_type": "stream",
     "text": [
      "shape of X_cross_train:  (7000, 784) shape of y_cross_val:  (7000,)\n",
      "labels distribution:  [0.09, 0.11, 0.1, 0.1, 0.1, 0.09, 0.1, 0.11, 0.1, 0.1]\n",
      "shape of X_train:  (41999, 784) shape of y_train:  (41999,)\n",
      "labels distribution:  [0.1, 0.11, 0.1, 0.1, 0.1, 0.09, 0.1, 0.11, 0.1, 0.1]\n",
      "shape of X_val:  (14000, 784) shape of y_val:  (14000,)\n",
      "labels distribution:  [0.1, 0.11, 0.1, 0.1, 0.1, 0.09, 0.09, 0.1, 0.1, 0.1]\n",
      "shape of X_test:  (7000, 784) shape of y_test:  (7000,)\n",
      "labels distribution:  [0.1, 0.11, 0.1, 0.1, 0.1, 0.09, 0.11, 0.1, 0.09, 0.1]\n"
     ]
    }
   ],
   "source": [
    "# splitting data into four parts: |train|val|cross_validation|test|\n",
    "seed = 23\n",
    "X_train_temp, X_cross_temp, y_train_temp, y_cross_temp = train_test_split(X, y, test_size=0.2, random_state=seed)\n",
    "\n",
    "X_train, X_val, y_train, y_val = train_test_split(X_train_temp, y_train_temp, test_size=0.25, random_state=seed)\n",
    "\n",
    "X_cross_train, X_test, y_cross_train, y_test = train_test_split(X_cross_temp, y_cross_temp, test_size=0.5, random_state=seed)\n",
    "\n",
    "print(\"shape of X_cross_train: \", X_cross_train.shape, \"Shape of y_cross_val: \", y_cross_train.shape)\n",
    "label_distribution(y_cross_train)\n",
    "print(\"shape of X_train: \", X_train.shape, \"Shape of y_train: \", y_train.shape)\n",
    "label_distribution(y_train)\n",
    "print(\"shape of X_val: \", X_val.shape, \"Shape of y_val: \", y_val.shape)\n",
    "label_distribution(y_val)\n",
    "print(\"shape of X_test: \", X_test.shape, \"Shape of y_test: \", y_test.shape)\n",
    "label_distribution(y_test)\n",
    "\n",
    "# reshaping datapoints for convolutional neural network(cnn)\n",
    "y_categorical_train = to_categorical(y_train)\n",
    "y_categorical_val = to_categorical(y_val)\n",
    "X_cnn_train = X_train.reshape(-1, 28,28, 1)\n",
    "X_cnn_val = X_val.reshape(-1, 28,28, 1)"
   ]
  },
  {
   "cell_type": "code",
   "execution_count": 6,
   "metadata": {},
   "outputs": [
    {
     "name": "stdout",
     "output_type": "stream",
     "text": [
      "label:  2\n"
     ]
    },
    {
     "data": {
      "image/png": "[encoded data removed]",
      "text/plain": [
       "<Figure size 432x288 with 1 Axes>"
      ]
     },
     "metadata": {
      "needs_background": "light"
     },
     "output_type": "display_data"
    }
   ],
   "source": [
    "#printing picture and label\n",
    "X_img = X.reshape(X.shape[0], 28, 28)\n",
    "img = X_img[0]\n",
    "plt.imshow(img, cmap=\"Greys\")\n",
    "print(\"label: \", y[0])"
   ]
  },
  {
   "cell_type": "markdown",
   "metadata": {},
   "source": [
    "## Testing Classifier"
   ]
  },
  {
   "cell_type": "code",
   "execution_count": 7,
   "metadata": {},
   "outputs": [
    {
     "name": "stdout",
     "output_type": "stream",
     "text": [
      "0.9659285714285715\n"
     ]
    }
   ],
   "source": [
    "rfc = RandomForestClassifier(random_state = 23, n_estimators = 100)\n",
    "rfc.fit(X_train, y_train)\n",
    "score_rfc = rfc.score(X_val, y_val)\n",
    "print(\"Random Forest score: \", score_rfc)"
   ]
  },
  {
   "cell_type": "code",
   "execution_count": 8,
   "metadata": {},
   "outputs": [
    {
     "name": "stdout",
     "output_type": "stream",
     "text": [
      "Decision tree score:  0.8567857142857143\n"
     ]
    }
   ],
   "source": [
    "decision_tree = DecisionTreeClassifier()\n",
    "decision_tree.fit(X_train, y_train)\n",
    "score_decision_tree =  decision_tree.score(X_val, y_val)\n",
    "print(\"Decision tree score: \", score_decision_tree)"
   ]
  },
  {
   "cell_type": "code",
   "execution_count": 9,
   "metadata": {},
   "outputs": [
    {
     "name": "stderr",
     "output_type": "stream",
     "text": [
      "C:\\Users\\hfv\\Anaconda3\\lib\\site-packages\\sklearn\\linear_model\\logistic.py:432: FutureWarning: Default solver will be changed to 'lbfgs' in 0.22. Specify a solver to silence this warning.\n",
      "  FutureWarning)\n"
     ]
    },
    {
     "name": "stdout",
     "output_type": "stream",
     "text": [
      "Logistical regression score:  0.9164285714285715\n"
     ]
    }
   ],
   "source": [
    "log_reg = LogisticRegression(multi_class = 'auto')\n",
    "log_reg.fit(X_train, y_train)\n",
    "score_log_reg = log_reg.score(X_val, y_val)\n",
    "print(\"Logistical regression score: \", score_log_reg)"
   ]
  },
  {
   "cell_type": "code",
   "execution_count": 10,
   "metadata": {},
   "outputs": [
    {
     "name": "stdout",
     "output_type": "stream",
     "text": [
      "Multi layer perceptron score:  0.9734285714285714\n"
     ]
    }
   ],
   "source": [
    "mlp = MLPClassifier()\n",
    "mlp.fit(X_train, y_train)\n",
    "score_mlp = mlp.score(X_val, y_val)\n",
    "print(\"Multi layer perceptron score: \", score_mlp)"
   ]
  },
  {
   "cell_type": "code",
   "execution_count": 11,
   "metadata": {},
   "outputs": [
    {
     "name": "stdout",
     "output_type": "stream",
     "text": [
      "support vector machine score:  0.9555714285714285\n"
     ]
    }
   ],
   "source": [
    "svc = SVC(gamma = 'scale')\n",
    "svc.fit(X_test, y_test)\n",
    "score_svc = svc.score(X_val, y_val)\n",
    "print(\"support vector machine score: \", score_svc)"
   ]
  },
  {
   "cell_type": "code",
   "execution_count": 12,
   "metadata": {},
   "outputs": [
    {
     "name": "stdout",
     "output_type": "stream",
     "text": [
      "Knearest neighbour score:  0.9388571428571428\n"
     ]
    }
   ],
   "source": [
    "knn = KNeighborsClassifier(n_jobs=-1)\n",
    "knn.fit(X_test, y_test)\n",
    "score_knn = knn.score(X_val, y_val)\n",
    "print(\"Knearest neighbour score: \", score_knn)"
   ]
  },
  {
   "cell_type": "code",
   "execution_count": 13,
   "metadata": {},
   "outputs": [],
   "source": [
    "def cnn(activation):\n",
    "    model = Sequential()\n",
    "    \n",
    "    model.add(Conv2D(64, (3,3), input_shape=(28, 28, 1), kernel_initializer=keras.initializers.RandomNormal(seed=1337), bias_initializer=keras.initializers.Constant(value=0.1)))\n",
    "    model.add(Activation(activation))\n",
    "    model.add(MaxPooling2D(pool_size=(2,2)))\n",
    "\n",
    "    model.add(Conv2D(64, (3,3), kernel_initializer=keras.initializers.RandomNormal(seed=1337), bias_initializer=keras.initializers.Constant(value=0.1)))\n",
    "    model.add(Activation(activation))\n",
    "    model.add(MaxPooling2D(pool_size=(2,2)))\n",
    "\n",
    "    model.add(Flatten())\n",
    "    model.add(Dense(64, kernel_initializer=keras.initializers.RandomNormal(seed=1337), bias_initializer=keras.initializers.Constant(value=0.1)))\n",
    "\n",
    "    model.add(Dense(10, kernel_initializer=keras.initializers.RandomNormal(seed=1337), bias_initializer=keras.initializers.Constant(value=0.1)))\n",
    "    model.add(Activation('softmax'))\n",
    "\n",
    "    model.compile(loss=keras.losses.categorical_crossentropy, optimizer=keras.optimizers.Adam(),metrics=['accuracy'])\n",
    "    return model"
   ]
  },
  {
   "cell_type": "code",
   "execution_count": 14,
   "metadata": {},
   "outputs": [
    {
     "name": "stdout",
     "output_type": "stream",
     "text": [
      "Epoch 1/1\n",
      "41999/41999 [==============================] - 61s 1ms/step - loss: 0.2279 - accuracy: 0.9305\n",
      "14000/14000 [==============================] - 5s 371us/step\n",
      "Test accuracy 0.966785728931427\n"
     ]
    }
   ],
   "source": [
    "model = cnn('relu')\n",
    "model.fit(X_cnn_train, y_categorical_train)\n",
    "test_loss, cnn_test_acc = model.evaluate(X_cnn_val, y_categorical_val)\n",
    "print('Test accuracy', cnn_test_acc)"
   ]
  },
  {
   "cell_type": "code",
   "execution_count": 28,
   "metadata": {},
   "outputs": [
    {
     "data": {
      "image/png": "[encoded data removed]",
      "text/plain": [
       "<Figure size 432x288 with 1 Axes>"
      ]
     },
     "metadata": {
      "needs_background": "light"
     },
     "output_type": "display_data"
    },
    {
     "name": "stdout",
     "output_type": "stream",
     "text": [
      "trained with X_train, y_train tested with X_val, y_val\n",
      "For cnn: X_cnn_train, y_categorical_train and tested with X_cnn_val, y_categorical_val\n"
     ]
    }
   ],
   "source": [
    "#gathering scores and plotting them\n",
    "score = list()\n",
    "score.append(round(score_decision_tree, 4))\n",
    "score.append(round(score_svc, 4))\n",
    "score.append(round(score_log_reg, 4))\n",
    "score.append(round(score_knn, 4))\n",
    "score.append(round(score_rfc, 4))\n",
    "score.append(round(score_mlp, 4))\n",
    "score.append(round(cnn_test_acc, 4))\n",
    "\n",
    "labels = ['', 'Dec tree' , 'SVC','Log Reg', 'KNN', 'Rand Forrest', 'MLP', 'CNN']\n",
    "x = np.arange(len(score))  # the label locations\n",
    "width = 0.35  # the width of the bars\n",
    "fig, ax = plt.subplots()\n",
    "rect = ax.bar(x - width/2, score, width)\n",
    "ax.set_ylabel('Scores')\n",
    "ax.set_xticklabels(labels)\n",
    "plt.ylim(0.82, 1)\n",
    "\n",
    "def autolabel(rects):\n",
    "    for rect in rects:\n",
    "        height = rect.get_height()\n",
    "        ax.annotate('{}'.format(height), xy=(rect.get_x() + rect.get_width() / 2, height),\n",
    "                    xytext=(0, 0),  # 3 points vertical offset\n",
    "                    textcoords=\"offset points\", ha='center', va='bottom')\n",
    "\n",
    "autolabel(rect)\n",
    "fig.tight_layout()\n",
    "plt.show()\n",
    "print(\"trained with X_train, y_train tested with X_val, y_val\")\n",
    "print(\"For cnn: X_cnn_train, y_categorical_train and tested with X_cnn_val, y_categorical_val\")"
   ]
  },
  {
   "cell_type": "markdown",
   "metadata": {},
   "source": [
    "# Kfold for Random Forest Classifier(rfc) and MLP"
   ]
  },
  {
   "cell_type": "code",
   "execution_count": 16,
   "metadata": {},
   "outputs": [],
   "source": [
    "#acvtivation algorithm and hidden layer size for MLP\n",
    "hyper_parameters_mlp = [{\"Classifier\": 'mlp', \"activation\": 'identity', \"hidden_layer_size\": 50},\n",
    "                        {\"Classifier\": 'mlp', \"activation\": 'identity', \"hidden_layer_size\": 100},\n",
    "                        {\"Classifier\": 'mlp', \"activation\": 'identity', \"hidden_layer_size\": 150},\n",
    "                        {\"Classifier\": 'mlp', \"activation\": 'logistic', \"hidden_layer_size\": 50},\n",
    "                        {\"Classifier\": 'mlp', \"activation\": 'logistic', \"hidden_layer_size\": 100},\n",
    "                        {\"Classifier\": 'mlp', \"activation\": 'logistic', \"hidden_layer_size\": 150},\n",
    "                        {\"Classifier\": 'mlp', \"activation\": 'tanh', \"hidden_layer_size\": 50},\n",
    "                        {\"Classifier\": 'mlp', \"activation\": 'tanh', \"hidden_layer_size\": 100},\n",
    "                        {\"Classifier\": 'mlp', \"activation\": 'tanh', \"hidden_layer_size\": 150},\n",
    "                        {\"Classifier\": 'mlp', \"activation\": 'relu', \"hidden_layer_size\": 50},\n",
    "                        {\"Classifier\": 'mlp', \"activation\": 'relu', \"hidden_layer_size\": 100},\n",
    "                        {\"Classifier\": 'mlp', \"activation\": 'relu', \"hidden_layer_size\": 150}]"
   ]
  },
  {
   "cell_type": "code",
   "execution_count": 17,
   "metadata": {},
   "outputs": [],
   "source": [
    "#number of trees in forrest, gini or entropy criteria, and max_depth of each tree for random forrest classifier\n",
    "hyper_parameters_rfc = [{\"Classifier\": 'rfc', \"criterion\": 'gini', \"n_estimators\": 10},\n",
    "                        {\"Classifier\": 'rfc', \"criterion\": 'gini', \"n_estimators\": 50},\n",
    "                        {\"Classifier\": 'rfc', \"criterion\": 'gini', \"n_estimators\": 100},\n",
    "                        {\"Classifier\": 'rfc', \"criterion\": 'gini', \"n_estimators\": 150},\n",
    "                        {\"Classifier\": 'rfc', \"criterion\": 'gini', \"n_estimators\": 300},\n",
    "                        {\"Classifier\": 'rfc', \"criterion\": 'entropy', \"n_estimators\": 10},\n",
    "                        {\"Classifier\": 'rfc', \"criterion\": 'entropy', \"n_estimators\": 50},\n",
    "                        {\"Classifier\": 'rfc', \"criterion\": 'entropy', \"n_estimators\": 100},\n",
    "                        {\"Classifier\": 'rfc', \"criterion\": 'entropy', \"n_estimators\": 150},\n",
    "                        {\"Classifier\": 'rfc', \"criterion\": 'entropy', \"n_estimators\": 300}]"
   ]
  },
  {
   "cell_type": "code",
   "execution_count": 35,
   "metadata": {},
   "outputs": [],
   "source": [
    "# activations for convolutional neural network\n",
    "hyper_parameters_cnn = [{\"activation\": 'tanh', \"batch_size\": 32, \"epochs\": 1},\n",
    "                        {\"activation\": 'tanh', \"batch_size\": 32, \"epochs\": 2},\n",
    "                        {\"activation\": 'tanh', \"batch_size\": 32, \"epochs\": 3},\n",
    "                        {\"activation\": 'tanh', \"batch_size\": 64, \"epochs\": 1},\n",
    "                        {\"activation\": 'tanh', \"batch_size\": 64, \"epochs\": 2},\n",
    "                        {\"activation\": 'tanh', \"batch_size\": 64, \"epochs\": 3},\n",
    "                        {\"activation\": 'relu', \"batch_size\": 32, \"epochs\": 1},\n",
    "                        {\"activation\": 'relu', \"batch_size\": 32, \"epochs\": 2},\n",
    "                        {\"activation\": 'relu', \"batch_size\": 32, \"epochs\": 3},\n",
    "                        {\"activation\": 'relu', \"batch_size\": 64, \"epochs\": 1},\n",
    "                        {\"activation\": 'relu', \"batch_size\": 64, \"epochs\": 2},\n",
    "                        {\"activation\": 'relu', \"batch_size\": 64, \"epochs\": 3},\n",
    "                        {\"activation\": 'linear', \"batch_size\": 32, \"epochs\": 1},\n",
    "                        {\"activation\": 'linear', \"batch_size\": 32, \"epochs\": 2},\n",
    "                        {\"activation\": 'linear', \"batch_size\": 32, \"epochs\": 3},\n",
    "                        {\"activation\": 'linear', \"batch_size\": 64, \"epochs\": 1},\n",
    "                        {\"activation\": 'linear', \"batch_size\": 64, \"epochs\": 2},\n",
    "                        {\"activation\": 'linear', \"batch_size\": 64, \"epochs\": 3}]"
   ]
  },
  {
   "cell_type": "code",
   "execution_count": 74,
   "metadata": {},
   "outputs": [],
   "source": [
    "def kfold_cross_val(k, X, y, model, hyper_parameters_instance):\n",
    "    kfold = KFold(n_splits = k, shuffle=True, random_state = 123)\n",
    "    score = list()\n",
    "    for train, validation in kfold.split(X):\n",
    "        current_X_train = X[train] \n",
    "        current_y_train = y[train]\n",
    "        current_X_valid = X[validation] \n",
    "        current_y_valid = y[validation]\n",
    "        if(hyper_parameters_instance[\"Classifier\"]=='mlp'):\n",
    "            model = MLPClassifier(activation = hyper_parameters_instance[\"activation\"]\n",
    "                                      , hidden_layer_sizes =hyper_parameters_instance[\"hidden_layer_size\"])\n",
    "        else:\n",
    "            model = RandomForestClassifier(random_state = 23, n_estimators = hyper_parameters_instance[\"n_estimators\"]\n",
    "                                           , criterion =  hyper_parameters_instance[\"criterion\"])\n",
    "        model.fit(current_X_train, current_y_train)\n",
    "        current_score = model.score(current_X_valid, current_y_valid)\n",
    "        score.append(current_score)\n",
    "    return (sum(score)/len(score)) #return mean score"
   ]
  },
  {
   "cell_type": "code",
   "execution_count": 75,
   "metadata": {},
   "outputs": [
    {
     "name": "stdout",
     "output_type": "stream",
     "text": [
      "\n",
      "Now preprocessing hyper-parameter instance {'Classifier': 'rfc', 'criterion': 'gini', 'n_estimators': 10}\n",
      "mean score with theese hyperparameters:  0.9008571428571429\n",
      "\n",
      "Now preprocessing hyper-parameter instance {'Classifier': 'rfc', 'criterion': 'gini', 'n_estimators': 50}\n",
      "mean score with theese hyperparameters:  0.937\n",
      "\n",
      "Now preprocessing hyper-parameter instance {'Classifier': 'rfc', 'criterion': 'gini', 'n_estimators': 100}\n",
      "mean score with theese hyperparameters:  0.9414285714285715\n",
      "\n",
      "Now preprocessing hyper-parameter instance {'Classifier': 'rfc', 'criterion': 'gini', 'n_estimators': 150}\n",
      "mean score with theese hyperparameters:  0.9431428571428571\n",
      "\n",
      "Now preprocessing hyper-parameter instance {'Classifier': 'rfc', 'criterion': 'gini', 'n_estimators': 300}\n",
      "mean score with theese hyperparameters:  0.9432857142857143\n",
      "\n",
      "Now preprocessing hyper-parameter instance {'Classifier': 'rfc', 'criterion': 'entropy', 'n_estimators': 10}\n",
      "mean score with theese hyperparameters:  0.9005714285714286\n",
      "\n",
      "Now preprocessing hyper-parameter instance {'Classifier': 'rfc', 'criterion': 'entropy', 'n_estimators': 50}\n",
      "mean score with theese hyperparameters:  0.9358571428571428\n",
      "\n",
      "Now preprocessing hyper-parameter instance {'Classifier': 'rfc', 'criterion': 'entropy', 'n_estimators': 100}\n",
      "mean score with theese hyperparameters:  0.9400000000000001\n",
      "\n",
      "Now preprocessing hyper-parameter instance {'Classifier': 'rfc', 'criterion': 'entropy', 'n_estimators': 150}\n",
      "mean score with theese hyperparameters:  0.9415714285714285\n",
      "\n",
      "Now preprocessing hyper-parameter instance {'Classifier': 'rfc', 'criterion': 'entropy', 'n_estimators': 300}\n",
      "mean score with theese hyperparameters:  0.9438571428571428\n",
      "\n",
      "Now preprocessing hyper-parameter instance {'Classifier': 'mlp', 'activation': 'identity', 'hidden_layer_size': 50}\n"
     ]
    },
    {
     "name": "stderr",
     "output_type": "stream",
     "text": [
      "C:\\Users\\hfv\\Anaconda3\\lib\\site-packages\\sklearn\\neural_network\\multilayer_perceptron.py:566: ConvergenceWarning: Stochastic Optimizer: Maximum iterations (200) reached and the optimization hasn't converged yet.\n",
      "  % self.max_iter, ConvergenceWarning)\n",
      "C:\\Users\\hfv\\Anaconda3\\lib\\site-packages\\sklearn\\neural_network\\multilayer_perceptron.py:566: ConvergenceWarning: Stochastic Optimizer: Maximum iterations (200) reached and the optimization hasn't converged yet.\n",
      "  % self.max_iter, ConvergenceWarning)\n",
      "C:\\Users\\hfv\\Anaconda3\\lib\\site-packages\\sklearn\\neural_network\\multilayer_perceptron.py:566: ConvergenceWarning: Stochastic Optimizer: Maximum iterations (200) reached and the optimization hasn't converged yet.\n",
      "  % self.max_iter, ConvergenceWarning)\n",
      "C:\\Users\\hfv\\Anaconda3\\lib\\site-packages\\sklearn\\neural_network\\multilayer_perceptron.py:566: ConvergenceWarning: Stochastic Optimizer: Maximum iterations (200) reached and the optimization hasn't converged yet.\n",
      "  % self.max_iter, ConvergenceWarning)\n",
      "C:\\Users\\hfv\\Anaconda3\\lib\\site-packages\\sklearn\\neural_network\\multilayer_perceptron.py:566: ConvergenceWarning: Stochastic Optimizer: Maximum iterations (200) reached and the optimization hasn't converged yet.\n",
      "  % self.max_iter, ConvergenceWarning)\n"
     ]
    },
    {
     "name": "stdout",
     "output_type": "stream",
     "text": [
      "mean score with theese hyperparameters:  0.8814285714285715\n",
      "\n",
      "Now preprocessing hyper-parameter instance {'Classifier': 'mlp', 'activation': 'identity', 'hidden_layer_size': 100}\n"
     ]
    },
    {
     "name": "stderr",
     "output_type": "stream",
     "text": [
      "C:\\Users\\hfv\\Anaconda3\\lib\\site-packages\\sklearn\\neural_network\\multilayer_perceptron.py:566: ConvergenceWarning: Stochastic Optimizer: Maximum iterations (200) reached and the optimization hasn't converged yet.\n",
      "  % self.max_iter, ConvergenceWarning)\n",
      "C:\\Users\\hfv\\Anaconda3\\lib\\site-packages\\sklearn\\neural_network\\multilayer_perceptron.py:566: ConvergenceWarning: Stochastic Optimizer: Maximum iterations (200) reached and the optimization hasn't converged yet.\n",
      "  % self.max_iter, ConvergenceWarning)\n",
      "C:\\Users\\hfv\\Anaconda3\\lib\\site-packages\\sklearn\\neural_network\\multilayer_perceptron.py:566: ConvergenceWarning: Stochastic Optimizer: Maximum iterations (200) reached and the optimization hasn't converged yet.\n",
      "  % self.max_iter, ConvergenceWarning)\n",
      "C:\\Users\\hfv\\Anaconda3\\lib\\site-packages\\sklearn\\neural_network\\multilayer_perceptron.py:566: ConvergenceWarning: Stochastic Optimizer: Maximum iterations (200) reached and the optimization hasn't converged yet.\n",
      "  % self.max_iter, ConvergenceWarning)\n",
      "C:\\Users\\hfv\\Anaconda3\\lib\\site-packages\\sklearn\\neural_network\\multilayer_perceptron.py:566: ConvergenceWarning: Stochastic Optimizer: Maximum iterations (200) reached and the optimization hasn't converged yet.\n",
      "  % self.max_iter, ConvergenceWarning)\n"
     ]
    },
    {
     "name": "stdout",
     "output_type": "stream",
     "text": [
      "mean score with theese hyperparameters:  0.8814285714285713\n",
      "\n",
      "Now preprocessing hyper-parameter instance {'Classifier': 'mlp', 'activation': 'identity', 'hidden_layer_size': 150}\n"
     ]
    },
    {
     "name": "stderr",
     "output_type": "stream",
     "text": [
      "C:\\Users\\hfv\\Anaconda3\\lib\\site-packages\\sklearn\\neural_network\\multilayer_perceptron.py:566: ConvergenceWarning: Stochastic Optimizer: Maximum iterations (200) reached and the optimization hasn't converged yet.\n",
      "  % self.max_iter, ConvergenceWarning)\n",
      "C:\\Users\\hfv\\Anaconda3\\lib\\site-packages\\sklearn\\neural_network\\multilayer_perceptron.py:566: ConvergenceWarning: Stochastic Optimizer: Maximum iterations (200) reached and the optimization hasn't converged yet.\n",
      "  % self.max_iter, ConvergenceWarning)\n"
     ]
    },
    {
     "name": "stdout",
     "output_type": "stream",
     "text": [
      "mean score with theese hyperparameters:  0.8807142857142857\n",
      "\n",
      "Now preprocessing hyper-parameter instance {'Classifier': 'mlp', 'activation': 'logistic', 'hidden_layer_size': 50}\n"
     ]
    },
    {
     "name": "stderr",
     "output_type": "stream",
     "text": [
      "C:\\Users\\hfv\\Anaconda3\\lib\\site-packages\\sklearn\\neural_network\\multilayer_perceptron.py:566: ConvergenceWarning: Stochastic Optimizer: Maximum iterations (200) reached and the optimization hasn't converged yet.\n",
      "  % self.max_iter, ConvergenceWarning)\n",
      "C:\\Users\\hfv\\Anaconda3\\lib\\site-packages\\sklearn\\neural_network\\multilayer_perceptron.py:566: ConvergenceWarning: Stochastic Optimizer: Maximum iterations (200) reached and the optimization hasn't converged yet.\n",
      "  % self.max_iter, ConvergenceWarning)\n",
      "C:\\Users\\hfv\\Anaconda3\\lib\\site-packages\\sklearn\\neural_network\\multilayer_perceptron.py:566: ConvergenceWarning: Stochastic Optimizer: Maximum iterations (200) reached and the optimization hasn't converged yet.\n",
      "  % self.max_iter, ConvergenceWarning)\n",
      "C:\\Users\\hfv\\Anaconda3\\lib\\site-packages\\sklearn\\neural_network\\multilayer_perceptron.py:566: ConvergenceWarning: Stochastic Optimizer: Maximum iterations (200) reached and the optimization hasn't converged yet.\n",
      "  % self.max_iter, ConvergenceWarning)\n",
      "C:\\Users\\hfv\\Anaconda3\\lib\\site-packages\\sklearn\\neural_network\\multilayer_perceptron.py:566: ConvergenceWarning: Stochastic Optimizer: Maximum iterations (200) reached and the optimization hasn't converged yet.\n",
      "  % self.max_iter, ConvergenceWarning)\n"
     ]
    },
    {
     "name": "stdout",
     "output_type": "stream",
     "text": [
      "mean score with theese hyperparameters:  0.9324285714285715\n",
      "\n",
      "Now preprocessing hyper-parameter instance {'Classifier': 'mlp', 'activation': 'logistic', 'hidden_layer_size': 100}\n",
      "mean score with theese hyperparameters:  0.9384285714285715\n",
      "\n",
      "Now preprocessing hyper-parameter instance {'Classifier': 'mlp', 'activation': 'logistic', 'hidden_layer_size': 150}\n",
      "mean score with theese hyperparameters:  0.938\n",
      "\n",
      "Now preprocessing hyper-parameter instance {'Classifier': 'mlp', 'activation': 'tanh', 'hidden_layer_size': 50}\n",
      "mean score with theese hyperparameters:  0.9298571428571428\n",
      "\n",
      "Now preprocessing hyper-parameter instance {'Classifier': 'mlp', 'activation': 'tanh', 'hidden_layer_size': 100}\n",
      "mean score with theese hyperparameters:  0.9367142857142857\n",
      "\n",
      "Now preprocessing hyper-parameter instance {'Classifier': 'mlp', 'activation': 'tanh', 'hidden_layer_size': 150}\n",
      "mean score with theese hyperparameters:  0.9385714285714286\n",
      "\n",
      "Now preprocessing hyper-parameter instance {'Classifier': 'mlp', 'activation': 'relu', 'hidden_layer_size': 50}\n",
      "mean score with theese hyperparameters:  0.9341428571428573\n",
      "\n",
      "Now preprocessing hyper-parameter instance {'Classifier': 'mlp', 'activation': 'relu', 'hidden_layer_size': 100}\n",
      "mean score with theese hyperparameters:  0.943\n",
      "\n",
      "Now preprocessing hyper-parameter instance {'Classifier': 'mlp', 'activation': 'relu', 'hidden_layer_size': 150}\n",
      "mean score with theese hyperparameters:  0.945\n"
     ]
    }
   ],
   "source": [
    "hyper_parameters = list()\n",
    "mlp_score = list()\n",
    "rfc_score = list()\n",
    "hyper_parameters.append(hyper_parameters_rfc)\n",
    "hyper_parameters.append(hyper_parameters_mlp)\n",
    "for each_models_parameters in hyper_parameters:\n",
    "    score = list()\n",
    "    for hyper_parameters_instance in each_models_parameters:\n",
    "            print(\"\\nNow preprocessing hyper-parameter instance\", hyper_parameters_instance)\n",
    "            current_score = kfold_cross_val(k=5, X = X_cross_train, y = y_cross_train,  model =model, hyper_parameters_instance=hyper_parameters_instance)\n",
    "            score.append(current_score)\n",
    "            print(\"mean score with theese hyperparameters: \", current_score)\n",
    "    if(each_models_parameters[0][\"Classifier\"]=='mlp'):\n",
    "        mlp_score = score\n",
    "    else:\n",
    "        rfc_score = score"
   ]
  },
  {
   "cell_type": "code",
   "execution_count": 58,
   "metadata": {},
   "outputs": [
    {
     "name": "stdout",
     "output_type": "stream",
     "text": [
      "trained and tested with X_cross_train, y_cross_train\n"
     ]
    },
    {
     "data": {
      "image/png": "[encoded data removed]",
      "text/plain": [
       "<Figure size 432x288 with 1 Axes>"
      ]
     },
     "metadata": {
      "needs_background": "light"
     },
     "output_type": "display_data"
    }
   ],
   "source": [
    "plt.plot([10, 50, 100, 150, 300], rfc_score[0:5], label = 'gini')\n",
    "plt.plot([10, 50, 100, 150, 300], rfc_score[5:10], label = 'entropy')\n",
    "plt.xlabel(\"N_estimators\")\n",
    "plt.ylabel(\"Score\")\n",
    "plt.legend()\n",
    "print(\"trained and tested with X_cross_train, y_cross_train\")"
   ]
  },
  {
   "cell_type": "code",
   "execution_count": 80,
   "metadata": {},
   "outputs": [
    {
     "name": "stdout",
     "output_type": "stream",
     "text": [
      "trained and tested with X_cross_train, y_cross_train\n"
     ]
    },
    {
     "data": {
      "image/png": "[encoded data removed]",
      "text/plain": [
       "<Figure size 432x288 with 1 Axes>"
      ]
     },
     "metadata": {
      "needs_background": "light"
     },
     "output_type": "display_data"
    }
   ],
   "source": [
    "plt.plot([50, 100, 150],mlp_score[0:3], label ='identity')\n",
    "plt.plot([50, 100, 150],mlp_score[3:6], label ='logistic')\n",
    "plt.plot([50, 100, 150],mlp_score[6:9], label ='tanh')\n",
    "plt.plot([50, 100, 150],mlp_score[9:12], label ='relu')\n",
    "plt.xlabel(\"MLP Hidden layer size\")\n",
    "plt.ylabel(\"Score\")\n",
    "plt.legend()\n",
    "print(\"trained and tested with X_cross_train, y_cross_train\")"
   ]
  },
  {
   "cell_type": "markdown",
   "metadata": {},
   "source": [
    "# Kfold for CNN"
   ]
  },
  {
   "cell_type": "code",
   "execution_count": 38,
   "metadata": {},
   "outputs": [],
   "source": [
    "def kfold_cross_val_cnn(k, X, y, model, hyper_parameters_instance):\n",
    "    kfold = KFold(n_splits = k, shuffle=True, random_state = 123)\n",
    "    score_cnn = list()\n",
    "    for train, validation in kfold.split(X):\n",
    "        curr_X_train = X[train] \n",
    "        curr_y_train = y[train]\n",
    "        curr_X_valid = X[validation] \n",
    "        curr_y_valid = y[validation]\n",
    "        \n",
    "        current_y_train = to_categorical(curr_y_train)\n",
    "        current_y_valid = to_categorical(curr_y_valid)\n",
    "        current_X_train = curr_X_train.reshape(-1, 28,28, 1)\n",
    "        current_X_valid = curr_X_valid.reshape(-1, 28,28, 1)\n",
    "        \n",
    "        model = cnn(hyper_parameters_instance[\"activation\"])\n",
    "        model.fit(current_X_train, current_y_train, batch_size=hyper_parameters_instance[\"batch_size\"], epochs = hyper_parameters_instance[\"epochs\"])\n",
    "        current_loss, current_score = model.evaluate(current_X_valid, current_y_valid)\n",
    "        score_cnn.append(current_score)\n",
    "    return (sum(score_cnn)/len(score_cnn)) #return mean score"
   ]
  },
  {
   "cell_type": "code",
   "execution_count": 39,
   "metadata": {},
   "outputs": [],
   "source": [
    "score = list()\n",
    "for hyper_parameters_instance in hyper_parameters_cnn:\n",
    "    print(\"\\nNow preprocessing hyper-parameter instance\", hyper_parameters_instance)\n",
    "    current_score = kfold_cross_val_cnn(k=5, X = X_cross_train, y = y_cross_train, model=model, hyper_parameters_instance=hyper_parameters_instance )\n",
    "    score.append(current_score)\n",
    "    print(\"mean score with theese hyperparameters: \", current_score)\n",
    "    "
   ]
  },
  {
   "cell_type": "code",
   "execution_count": 77,
   "metadata": {},
   "outputs": [
    {
     "ename": "ValueError",
     "evalue": "x and y must have same first dimension, but have shapes (3,) and (0,)",
     "output_type": "error",
     "traceback": [
      "\u001b[1;31m---------------------------------------------------------------------------\u001b[0m",
      "\u001b[1;31mValueError\u001b[0m                                Traceback (most recent call last)",
      "\u001b[1;32m<ipython-input-77-fa73cf91f99d>\u001b[0m in \u001b[0;36m<module>\u001b[1;34m\u001b[0m\n\u001b[0;32m      3\u001b[0m \u001b[0mplt\u001b[0m\u001b[1;33m.\u001b[0m\u001b[0mplot\u001b[0m\u001b[1;33m(\u001b[0m\u001b[1;33m[\u001b[0m\u001b[1;36m1\u001b[0m\u001b[1;33m,\u001b[0m\u001b[1;36m2\u001b[0m\u001b[1;33m,\u001b[0m\u001b[1;36m3\u001b[0m\u001b[1;33m]\u001b[0m\u001b[1;33m,\u001b[0m \u001b[0mscore\u001b[0m\u001b[1;33m[\u001b[0m\u001b[1;36m6\u001b[0m\u001b[1;33m:\u001b[0m\u001b[1;36m9\u001b[0m\u001b[1;33m]\u001b[0m\u001b[1;33m,\u001b[0m \u001b[0mlabel\u001b[0m \u001b[1;33m=\u001b[0m\u001b[1;34m'relu, b_size 32'\u001b[0m\u001b[1;33m)\u001b[0m\u001b[1;33m\u001b[0m\u001b[1;33m\u001b[0m\u001b[0m\n\u001b[0;32m      4\u001b[0m \u001b[0mplt\u001b[0m\u001b[1;33m.\u001b[0m\u001b[0mplot\u001b[0m\u001b[1;33m(\u001b[0m\u001b[1;33m[\u001b[0m\u001b[1;36m1\u001b[0m\u001b[1;33m,\u001b[0m\u001b[1;36m2\u001b[0m\u001b[1;33m,\u001b[0m\u001b[1;36m3\u001b[0m\u001b[1;33m]\u001b[0m\u001b[1;33m,\u001b[0m \u001b[0mscore\u001b[0m\u001b[1;33m[\u001b[0m\u001b[1;36m9\u001b[0m\u001b[1;33m:\u001b[0m\u001b[1;36m12\u001b[0m\u001b[1;33m]\u001b[0m\u001b[1;33m,\u001b[0m \u001b[0mlabel\u001b[0m \u001b[1;33m=\u001b[0m\u001b[1;34m'relu, b_size 64'\u001b[0m\u001b[1;33m)\u001b[0m\u001b[1;33m\u001b[0m\u001b[1;33m\u001b[0m\u001b[0m\n\u001b[1;32m----> 5\u001b[1;33m \u001b[0mplt\u001b[0m\u001b[1;33m.\u001b[0m\u001b[0mplot\u001b[0m\u001b[1;33m(\u001b[0m\u001b[1;33m[\u001b[0m\u001b[1;36m1\u001b[0m\u001b[1;33m,\u001b[0m\u001b[1;36m2\u001b[0m\u001b[1;33m,\u001b[0m\u001b[1;36m3\u001b[0m\u001b[1;33m]\u001b[0m\u001b[1;33m,\u001b[0m \u001b[0mscore\u001b[0m\u001b[1;33m[\u001b[0m\u001b[1;36m12\u001b[0m\u001b[1;33m:\u001b[0m\u001b[1;36m15\u001b[0m\u001b[1;33m]\u001b[0m\u001b[1;33m,\u001b[0m \u001b[0mlabel\u001b[0m \u001b[1;33m=\u001b[0m\u001b[1;34m'linear, b_size 32'\u001b[0m\u001b[1;33m)\u001b[0m\u001b[1;33m\u001b[0m\u001b[1;33m\u001b[0m\u001b[0m\n\u001b[0m\u001b[0;32m      6\u001b[0m \u001b[0mplt\u001b[0m\u001b[1;33m.\u001b[0m\u001b[0mplot\u001b[0m\u001b[1;33m(\u001b[0m\u001b[1;33m[\u001b[0m\u001b[1;36m1\u001b[0m\u001b[1;33m,\u001b[0m\u001b[1;36m2\u001b[0m\u001b[1;33m,\u001b[0m\u001b[1;36m3\u001b[0m\u001b[1;33m]\u001b[0m\u001b[1;33m,\u001b[0m \u001b[0mscore\u001b[0m\u001b[1;33m[\u001b[0m\u001b[1;36m15\u001b[0m\u001b[1;33m:\u001b[0m\u001b[1;36m18\u001b[0m\u001b[1;33m]\u001b[0m\u001b[1;33m,\u001b[0m \u001b[0mlabel\u001b[0m \u001b[1;33m=\u001b[0m\u001b[1;34m'linear, b_size 64'\u001b[0m\u001b[1;33m)\u001b[0m\u001b[1;33m\u001b[0m\u001b[1;33m\u001b[0m\u001b[0m\n\u001b[0;32m      7\u001b[0m \u001b[0mplt\u001b[0m\u001b[1;33m.\u001b[0m\u001b[0mxlabel\u001b[0m\u001b[1;33m(\u001b[0m\u001b[1;34m\"Epochs\"\u001b[0m\u001b[1;33m)\u001b[0m\u001b[1;33m\u001b[0m\u001b[1;33m\u001b[0m\u001b[0m\n",
      "\u001b[1;32m~\\Anaconda3\\lib\\site-packages\\matplotlib\\pyplot.py\u001b[0m in \u001b[0;36mplot\u001b[1;34m(scalex, scaley, data, *args, **kwargs)\u001b[0m\n\u001b[0;32m   2787\u001b[0m     return gca().plot(\n\u001b[0;32m   2788\u001b[0m         *args, scalex=scalex, scaley=scaley, **({\"data\": data} if data\n\u001b[1;32m-> 2789\u001b[1;33m         is not None else {}), **kwargs)\n\u001b[0m\u001b[0;32m   2790\u001b[0m \u001b[1;33m\u001b[0m\u001b[0m\n\u001b[0;32m   2791\u001b[0m \u001b[1;33m\u001b[0m\u001b[0m\n",
      "\u001b[1;32m~\\Anaconda3\\lib\\site-packages\\matplotlib\\axes\\_axes.py\u001b[0m in \u001b[0;36mplot\u001b[1;34m(self, scalex, scaley, data, *args, **kwargs)\u001b[0m\n\u001b[0;32m   1664\u001b[0m         \"\"\"\n\u001b[0;32m   1665\u001b[0m         \u001b[0mkwargs\u001b[0m \u001b[1;33m=\u001b[0m \u001b[0mcbook\u001b[0m\u001b[1;33m.\u001b[0m\u001b[0mnormalize_kwargs\u001b[0m\u001b[1;33m(\u001b[0m\u001b[0mkwargs\u001b[0m\u001b[1;33m,\u001b[0m \u001b[0mmlines\u001b[0m\u001b[1;33m.\u001b[0m\u001b[0mLine2D\u001b[0m\u001b[1;33m.\u001b[0m\u001b[0m_alias_map\u001b[0m\u001b[1;33m)\u001b[0m\u001b[1;33m\u001b[0m\u001b[1;33m\u001b[0m\u001b[0m\n\u001b[1;32m-> 1666\u001b[1;33m         \u001b[0mlines\u001b[0m \u001b[1;33m=\u001b[0m \u001b[1;33m[\u001b[0m\u001b[1;33m*\u001b[0m\u001b[0mself\u001b[0m\u001b[1;33m.\u001b[0m\u001b[0m_get_lines\u001b[0m\u001b[1;33m(\u001b[0m\u001b[1;33m*\u001b[0m\u001b[0margs\u001b[0m\u001b[1;33m,\u001b[0m \u001b[0mdata\u001b[0m\u001b[1;33m=\u001b[0m\u001b[0mdata\u001b[0m\u001b[1;33m,\u001b[0m \u001b[1;33m**\u001b[0m\u001b[0mkwargs\u001b[0m\u001b[1;33m)\u001b[0m\u001b[1;33m]\u001b[0m\u001b[1;33m\u001b[0m\u001b[1;33m\u001b[0m\u001b[0m\n\u001b[0m\u001b[0;32m   1667\u001b[0m         \u001b[1;32mfor\u001b[0m \u001b[0mline\u001b[0m \u001b[1;32min\u001b[0m \u001b[0mlines\u001b[0m\u001b[1;33m:\u001b[0m\u001b[1;33m\u001b[0m\u001b[1;33m\u001b[0m\u001b[0m\n\u001b[0;32m   1668\u001b[0m             \u001b[0mself\u001b[0m\u001b[1;33m.\u001b[0m\u001b[0madd_line\u001b[0m\u001b[1;33m(\u001b[0m\u001b[0mline\u001b[0m\u001b[1;33m)\u001b[0m\u001b[1;33m\u001b[0m\u001b[1;33m\u001b[0m\u001b[0m\n",
      "\u001b[1;32m~\\Anaconda3\\lib\\site-packages\\matplotlib\\axes\\_base.py\u001b[0m in \u001b[0;36m__call__\u001b[1;34m(self, *args, **kwargs)\u001b[0m\n\u001b[0;32m    223\u001b[0m                 \u001b[0mthis\u001b[0m \u001b[1;33m+=\u001b[0m \u001b[0margs\u001b[0m\u001b[1;33m[\u001b[0m\u001b[1;36m0\u001b[0m\u001b[1;33m]\u001b[0m\u001b[1;33m,\u001b[0m\u001b[1;33m\u001b[0m\u001b[1;33m\u001b[0m\u001b[0m\n\u001b[0;32m    224\u001b[0m                 \u001b[0margs\u001b[0m \u001b[1;33m=\u001b[0m \u001b[0margs\u001b[0m\u001b[1;33m[\u001b[0m\u001b[1;36m1\u001b[0m\u001b[1;33m:\u001b[0m\u001b[1;33m]\u001b[0m\u001b[1;33m\u001b[0m\u001b[1;33m\u001b[0m\u001b[0m\n\u001b[1;32m--> 225\u001b[1;33m             \u001b[1;32myield\u001b[0m \u001b[1;32mfrom\u001b[0m \u001b[0mself\u001b[0m\u001b[1;33m.\u001b[0m\u001b[0m_plot_args\u001b[0m\u001b[1;33m(\u001b[0m\u001b[0mthis\u001b[0m\u001b[1;33m,\u001b[0m \u001b[0mkwargs\u001b[0m\u001b[1;33m)\u001b[0m\u001b[1;33m\u001b[0m\u001b[1;33m\u001b[0m\u001b[0m\n\u001b[0m\u001b[0;32m    226\u001b[0m \u001b[1;33m\u001b[0m\u001b[0m\n\u001b[0;32m    227\u001b[0m     \u001b[1;32mdef\u001b[0m \u001b[0mget_next_color\u001b[0m\u001b[1;33m(\u001b[0m\u001b[0mself\u001b[0m\u001b[1;33m)\u001b[0m\u001b[1;33m:\u001b[0m\u001b[1;33m\u001b[0m\u001b[1;33m\u001b[0m\u001b[0m\n",
      "\u001b[1;32m~\\Anaconda3\\lib\\site-packages\\matplotlib\\axes\\_base.py\u001b[0m in \u001b[0;36m_plot_args\u001b[1;34m(self, tup, kwargs)\u001b[0m\n\u001b[0;32m    389\u001b[0m             \u001b[0mx\u001b[0m\u001b[1;33m,\u001b[0m \u001b[0my\u001b[0m \u001b[1;33m=\u001b[0m \u001b[0mindex_of\u001b[0m\u001b[1;33m(\u001b[0m\u001b[0mtup\u001b[0m\u001b[1;33m[\u001b[0m\u001b[1;33m-\u001b[0m\u001b[1;36m1\u001b[0m\u001b[1;33m]\u001b[0m\u001b[1;33m)\u001b[0m\u001b[1;33m\u001b[0m\u001b[1;33m\u001b[0m\u001b[0m\n\u001b[0;32m    390\u001b[0m \u001b[1;33m\u001b[0m\u001b[0m\n\u001b[1;32m--> 391\u001b[1;33m         \u001b[0mx\u001b[0m\u001b[1;33m,\u001b[0m \u001b[0my\u001b[0m \u001b[1;33m=\u001b[0m \u001b[0mself\u001b[0m\u001b[1;33m.\u001b[0m\u001b[0m_xy_from_xy\u001b[0m\u001b[1;33m(\u001b[0m\u001b[0mx\u001b[0m\u001b[1;33m,\u001b[0m \u001b[0my\u001b[0m\u001b[1;33m)\u001b[0m\u001b[1;33m\u001b[0m\u001b[1;33m\u001b[0m\u001b[0m\n\u001b[0m\u001b[0;32m    392\u001b[0m \u001b[1;33m\u001b[0m\u001b[0m\n\u001b[0;32m    393\u001b[0m         \u001b[1;32mif\u001b[0m \u001b[0mself\u001b[0m\u001b[1;33m.\u001b[0m\u001b[0mcommand\u001b[0m \u001b[1;33m==\u001b[0m \u001b[1;34m'plot'\u001b[0m\u001b[1;33m:\u001b[0m\u001b[1;33m\u001b[0m\u001b[1;33m\u001b[0m\u001b[0m\n",
      "\u001b[1;32m~\\Anaconda3\\lib\\site-packages\\matplotlib\\axes\\_base.py\u001b[0m in \u001b[0;36m_xy_from_xy\u001b[1;34m(self, x, y)\u001b[0m\n\u001b[0;32m    268\u001b[0m         \u001b[1;32mif\u001b[0m \u001b[0mx\u001b[0m\u001b[1;33m.\u001b[0m\u001b[0mshape\u001b[0m\u001b[1;33m[\u001b[0m\u001b[1;36m0\u001b[0m\u001b[1;33m]\u001b[0m \u001b[1;33m!=\u001b[0m \u001b[0my\u001b[0m\u001b[1;33m.\u001b[0m\u001b[0mshape\u001b[0m\u001b[1;33m[\u001b[0m\u001b[1;36m0\u001b[0m\u001b[1;33m]\u001b[0m\u001b[1;33m:\u001b[0m\u001b[1;33m\u001b[0m\u001b[1;33m\u001b[0m\u001b[0m\n\u001b[0;32m    269\u001b[0m             raise ValueError(\"x and y must have same first dimension, but \"\n\u001b[1;32m--> 270\u001b[1;33m                              \"have shapes {} and {}\".format(x.shape, y.shape))\n\u001b[0m\u001b[0;32m    271\u001b[0m         \u001b[1;32mif\u001b[0m \u001b[0mx\u001b[0m\u001b[1;33m.\u001b[0m\u001b[0mndim\u001b[0m \u001b[1;33m>\u001b[0m \u001b[1;36m2\u001b[0m \u001b[1;32mor\u001b[0m \u001b[0my\u001b[0m\u001b[1;33m.\u001b[0m\u001b[0mndim\u001b[0m \u001b[1;33m>\u001b[0m \u001b[1;36m2\u001b[0m\u001b[1;33m:\u001b[0m\u001b[1;33m\u001b[0m\u001b[1;33m\u001b[0m\u001b[0m\n\u001b[0;32m    272\u001b[0m             raise ValueError(\"x and y can be no greater than 2-D, but have \"\n",
      "\u001b[1;31mValueError\u001b[0m: x and y must have same first dimension, but have shapes (3,) and (0,)"
     ]
    },
    {
     "data": {
      "image/png": "[encoded data removed]",
      "text/plain": [
       "<Figure size 432x288 with 1 Axes>"
      ]
     },
     "metadata": {
      "needs_background": "light"
     },
     "output_type": "display_data"
    }
   ],
   "source": [
    "plt.plot([1,2,3], score[0:3], label='tanh, b_size 32')\n",
    "plt.plot([1,2,3], score[3:6], label ='tanh, b_size 64')\n",
    "plt.plot([1,2,3], score[6:9], label ='relu, b_size 32')\n",
    "plt.plot([1,2,3], score[9:12], label ='relu, b_size 64')\n",
    "plt.plot([1,2,3], score[12:15], label ='linear, b_size 32')\n",
    "plt.plot([1,2,3], score[15:18], label ='linear, b_size 64')\n",
    "plt.xlabel(\"Epochs\")\n",
    "plt.ylabel(\"Score\")\n",
    "plt.legend()\n",
    "print(\"trained and tested with X_cross_train, y_cross_train\")"
   ]
  },
  {
   "cell_type": "code",
   "execution_count": 69,
   "metadata": {},
   "outputs": [
    {
     "data": {
      "image/png": "[encoded data removed]",
      "text/plain": [
       "<Figure size 432x288 with 1 Axes>"
      ]
     },
     "metadata": {
      "needs_background": "light"
     },
     "output_type": "display_data"
    }
   ],
   "source": [
    "scores = list()\n",
    "scores.append(round(max(score), 4))\n",
    "scores.append(round(max(mlp_score), 4))\n",
    "scores.append(round(max(rfc_score), 4))\n",
    "\n",
    "labels = ['', 'CNN' , 'MLP','Rand Forrest']\n",
    "x = np.arange(len(scores))  # the label locations\n",
    "width = 0.35  # the width of the bars\n",
    "fig, ax = plt.subplots()\n",
    "rect = ax.bar(x - width/2, scores, width)\n",
    "ax.set_ylabel('Scores')\n",
    "ax.set_xticklabels(labels)\n",
    "plt.ylim(0.82, 1)\n",
    "\n",
    "def autolabel(rects):\n",
    "    for rect in rects:\n",
    "        height = rect.get_height()\n",
    "        ax.annotate('{}'.format(height), xy=(rect.get_x() + rect.get_width() / 2, height),\n",
    "                    xytext=(0, 0),  # 3 points vertical offset\n",
    "                    textcoords=\"offset points\", ha='center', va='bottom')\n",
    "\n",
    "autolabel(rect)\n",
    "fig.tight_layout()\n",
    "plt.show()"
   ]
  },
  {
   "cell_type": "markdown",
   "metadata": {},
   "source": [
    "# Final test for the best classifier with the best hyper parameters found"
   ]
  },
  {
   "cell_type": "code",
   "execution_count": 78,
   "metadata": {},
   "outputs": [
    {
     "name": "stdout",
     "output_type": "stream",
     "text": [
      "Epoch 1/5\n",
      "41999/41999 [==============================] - 54s 1ms/step - loss: 0.2536 - accuracy: 0.9236\n",
      "Epoch 2/5\n",
      "41999/41999 [==============================] - 55s 1ms/step - loss: 0.0754 - accuracy: 0.9765\n",
      "Epoch 3/5\n",
      "41999/41999 [==============================] - 56s 1ms/step - loss: 0.0580 - accuracy: 0.9825\n",
      "Epoch 4/5\n",
      "41999/41999 [==============================] - 54s 1ms/step - loss: 0.0483 - accuracy: 0.9848\n",
      "Epoch 5/5\n",
      "41999/41999 [==============================] - 58s 1ms/step - loss: 0.0404 - accuracy: 0.9873\n",
      "7000/7000 [==============================] - 3s 434us/step\n",
      "Final classifier, accuracy on unseen data(X_test, y_test):  0.9858571290969849\n"
     ]
    }
   ],
   "source": [
    "\n",
    "model = cnn('relu')\n",
    "y_cnn = to_categorical(y_test)\n",
    "X_cnn = X_test.reshape(-1,28,28,1)\n",
    "\n",
    "model.fit(X_cnn_train, y_categorical_train, batch_size=64, epochs = 5)\n",
    "cnn_loss, final_score = model.evaluate(X_cnn, y_cnn)\n",
    "print(\"Final classifier, accuracy on unseen data(X_test, y_test): \", final_score)"
   ]
  },
  {
   "cell_type": "code",
   "execution_count": null,
   "metadata": {},
   "outputs": [],
   "source": []
  }
 ],
 "metadata": {
  "kernelspec": {
   "display_name": "Python 3",
   "language": "python",
   "name": "python3"
  },
  "language_info": {
   "codemirror_mode": {
    "name": "ipython",
    "version": 3
   },
   "file_extension": ".py",
   "mimetype": "text/x-python",
   "name": "python",
   "nbconvert_exporter": "python",
   "pygments_lexer": "ipython3",
   "version": "3.6.9"
  }
 },
 "nbformat": 4,
 "nbformat_minor": 4
}
